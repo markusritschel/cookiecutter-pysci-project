{
 "metadata": {
  "language_info": {
   "codemirror_mode": {
    "name": "ipython",
    "version": 3
   },
   "file_extension": ".py",
   "mimetype": "text/x-python",
   "name": "python",
   "nbconvert_exporter": "python",
   "pygments_lexer": "ipython3",
   "version": "3.9.4"
  },
  "orig_nbformat": 2,
  "kernelspec": {
   "name": "python394jvsc74a57bd028cbe511d234794763f5bb93dfa69c8e1eb60ef02b99228fad37377e2a2b8ec1",
   "display_name": "Python 3.9.4 64-bit ('sia-eval': conda)"
  }
 },
 "nbformat": 4,
 "nbformat_minor": 2,
 "cells": [
  {
   "source": [
    "# A minimal example"
   ],
   "cell_type": "markdown",
   "metadata": {}
  },
  {
   "source": [
    "Load some standard configuration and packages"
   ],
   "cell_type": "markdown",
   "metadata": {}
  },
  {
   "cell_type": "code",
   "execution_count": 1,
   "metadata": {},
   "outputs": [
    {
     "output_type": "stream",
     "name": "stdout",
     "text": [
      "Load standard packages and some magic commands, set up logger and matplotlib rcParams.\n"
     ]
    },
    {
     "output_type": "display_data",
     "data": {
      "text/plain": "<IPython.core.display.Javascript object>",
      "application/javascript": "if (!(\"Notification\" in window)) {\n    alert(\"This browser does not support desktop notifications, so the %%notify magic will not work.\");\n} else if (Notification.permission !== 'granted' && Notification.permission !== 'denied') {\n    Notification.requestPermission(function (permission) {\n        if(!('permission' in Notification)) {\n            Notification.permission = permission;\n        }\n    })\n}\n"
     },
     "metadata": {}
    },
    {
     "output_type": "stream",
     "name": "stdout",
     "text": [
      "Using matplotlib backend: Qt5Agg\nPopulating the interactive namespace from numpy and matplotlib\n"
     ]
    }
   ],
   "source": [
    "%run ./jupyter_startup.ipy"
   ]
  },
  {
   "cell_type": "code",
   "execution_count": 2,
   "metadata": {},
   "outputs": [
    {
     "output_type": "execute_result",
     "data": {
      "text/plain": [
       "<IPython.core.display.HTML object>"
      ],
      "text/html": "<div style='border:thick solid red; padding:10px'>                      <div style='color:red; font-size:x-large; text-decoration:underline'><p>With custom title</p></div>                      <div style='font-weight:bold; font-size:large'><p>This is a <strong>new</strong> <em>cell magic command</em> 😊</p></div></div>"
     },
     "metadata": {},
     "execution_count": 2
    }
   ],
   "source": [
    "%%important With custom title\n",
    "This is a **new** *cell magic command* 😊"
   ]
  },
  {
   "source": [
    "from tqdm.auto import tqdm\n",
    "from time import sleep"
   ],
   "cell_type": "code",
   "metadata": {},
   "execution_count": 3,
   "outputs": []
  },
  {
   "cell_type": "code",
   "execution_count": 4,
   "metadata": {},
   "outputs": [
    {
     "output_type": "stream",
     "name": "stderr",
     "text": [
      "100%|██████████| 20/20 [00:02<00:00,  9.77it/s]\n"
     ]
    }
   ],
   "source": [
    "for i in tqdm(range(20)):\n",
    "    sleep(.1)"
   ]
  },
  {
   "cell_type": "code",
   "execution_count": 5,
   "metadata": {},
   "outputs": [
    {
     "output_type": "display_data",
     "data": {
      "text/plain": "<IPython.core.display.Javascript object>",
      "application/javascript": "alert(\"All done\");"
     },
     "metadata": {}
    }
   ],
   "source": [
    "alert('All done')"
   ]
  }
 ]
}